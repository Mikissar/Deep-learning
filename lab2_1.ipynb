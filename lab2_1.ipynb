{
 "cells": [
  {
   "cell_type": "markdown",
   "metadata": {
    "id": "FV3BO5Vvohz-"
   },
   "source": [
    "https://udlbook.github.io/udlbook/\n",
    "\n",
    "https://github.com/udlbook/udlbook/blob/main/Notebooks/Chap07/7_1_Backpropagation_in_Toy_Model.ipynb"
   ]
  },
  {
   "cell_type": "markdown",
   "metadata": {
    "id": "pOZ6Djz0dhoy"
   },
   "source": [
    "\n",
    "# **Блокнот 7.1: Обратное распространение (backpropagation) в упрощенной модели (toy model)**\n",
    "\n",
    "В этом блокноте вычисляются производные упрощенной функции (toy function), описанной в разделе 7.3 книги.\n",
    "\n",
    "Пройдитесь по ячейкам ниже, запуская каждую ячейку по очереди. В разных местах вы увидите метку \"TODO\". Следуйте инструкциям в этих местах и сделайте прогнозы о том, что должно произойти, или напишите код для выполнения функций."
   ]
  },
  {
   "cell_type": "markdown",
   "metadata": {
    "id": "1DmMo2w63CmT"
   },
   "source": [
    "Мы собираемся исследовать, как брать производные композиций функций.  Для примера рассмотрим модель:\n",
    "\n",
    "\\begin{equation}\n",
    "     \\text{f}[x,\\boldsymbol\\phi] = \\beta_3+\\omega_3\\cdot\\cos\\Bigl[\\beta_2+\\omega_2\\cdot\\exp\\bigl[\\beta_1+\\omega_1\\cdot\\sin[\\beta_0+\\omega_0x]\\bigr]\\Bigr],\n",
    "\\end{equation}\n",
    "\n",
    "\n",
    "с параметрами $\\boldsymbol\\phi=\\{\\beta_0,\\omega_0,\\beta_1,\\omega_1,\\beta_2,\\omega_2,\\beta_3,\\omega_3\\}$.<br>\n",
    "\n",
    "\n",
    "Это композиция функций $\\cos[\\bullet],\\exp[\\bullet],\\sin[\\bullet]$.   Эти функции выбраны только потому, что вы, вероятно, уже знаете производные от этих функций:\n",
    "\n",
    "\\begin{align}\n",
    " \\frac{\\partial \\cos[z]}{\\partial z} = -\\sin[z] \\quad\\quad \\frac{\\partial \\exp[z]}{\\partial z} = \\exp[z] \\quad\\quad \\frac{\\partial \\sin[z]}{\\partial z} = \\cos[z].\n",
    "\\end{align}\n",
    "\n",
    "\n",
    "Предположим, что у нас есть квадратичная функция потерь:\n",
    "\n",
    "\\begin{equation*}\n",
    "\\ell_i = (\\text{f}[x_i,\\boldsymbol\\phi]-y_i)^2,\n",
    "\\end{equation*}\n",
    "\n",
    "\n",
    "Предположим, что мы знаем текущие значения $\\beta_{0},\\beta_{1},\\beta_{2},\\beta_{3},\\omega_{0},\\omega_{1},\\omega_{2},\\omega_{3}$, $x_i$ и $y_i$. Очевидно, мы могли бы вычислить $\\ell_i$.   Но мы также хотим знать, как меняется $\\ell_i$, когда мы вносим небольшое изменение в $\\beta_{0},\\beta_{1},\\beta_{2},\\beta_{3},\\omega_{0},\\omega_{1},\\omega_{2}$, или $\\omega_{3}$.  Другими словами, мы хотим вычислить восемь производных:\n",
    "\n",
    "\\begin{align}\n",
    "\\frac{\\partial \\ell_i}{\\partial \\beta_{0}}, \\quad \\frac{\\partial \\ell_i}{\\partial \\beta_{1}}, \\quad \\frac{\\partial \\ell_i}{\\partial \\beta_{2}}, \\quad \\frac{\\partial \\ell_i }{\\partial \\beta_{3}},  \\quad \\frac{\\partial \\ell_i}{\\partial \\omega_{0}}, \\quad \\frac{\\partial \\ell_i}{\\partial \\omega_{1}}, \\quad \\frac{\\partial \\ell_i}{\\partial \\omega_{2}},  \\quad\\text{и} \\quad \\frac{\\partial \\ell_i}{\\partial \\omega_{3}}.\n",
    "\\end{align}\n",
    "\n",
    "\n"
   ]
  },
  {
   "cell_type": "code",
   "execution_count": 2,
   "metadata": {
    "id": "RIPaoVN834Lj"
   },
   "outputs": [],
   "source": [
    "# импорт библиотеки\n",
    "import numpy as np"
   ]
  },
  {
   "cell_type": "markdown",
   "metadata": {
    "id": "32-ufWhc3v2c"
   },
   "source": [
    "Давайте сначала определим исходную функцию для $y$ и функцию потерь:"
   ]
  },
  {
   "cell_type": "code",
   "execution_count": 3,
   "metadata": {
    "id": "AakK_qen3BpU"
   },
   "outputs": [],
   "source": [
    "def fn(x, beta0, beta1, beta2, beta3, omega0, omega1, omega2, omega3):\n",
    "  return beta3+omega3 * np.cos(beta2 + omega2 * np.exp(beta1 + omega1 * np.sin(beta0 + omega0 * x)))\n",
    "\n",
    "def loss(x, y, beta0, beta1, beta2, beta3, omega0, omega1, omega2, omega3):\n",
    "  diff = fn(x, beta0, beta1, beta2, beta3, omega0, omega1, omega2, omega3) - y\n",
    "  return diff * diff"
   ]
  },
  {
   "cell_type": "markdown",
   "metadata": {
    "id": "y7tf0ZMt5OXt"
   },
   "source": [
    "Теперь выберем некоторые значения для beta, omega и x и вычислим выходное значение функции:"
   ]
  },
  {
   "cell_type": "code",
   "execution_count": 4,
   "metadata": {
    "colab": {
     "base_uri": "https://localhost:8080/"
    },
    "id": "pwvOcCxr41X_",
    "outputId": "5f464e07-313a-4296-964a-5f8898f722d1"
   },
   "outputs": [
    {
     "name": "stdout",
     "output_type": "stream",
     "text": [
      "l_i=0.139\n"
     ]
    }
   ],
   "source": [
    "beta0 = 1.0; beta1 = 2.0; beta2 = -3.0; beta3 = 0.4\n",
    "omega0 = 0.1; omega1 = -0.4; omega2 = 2.0; omega3 = 3.0\n",
    "x = 2.3; y =2.0\n",
    "l_i_func = loss(x,y,beta0,beta1,beta2,beta3,omega0,omega1,omega2,omega3)\n",
    "print('l_i=%3.3f'%l_i_func)"
   ]
  },
  {
   "cell_type": "markdown",
   "metadata": {
    "id": "u5w69NeT64yV"
   },
   "source": [
    "# Вычисление производных вручную\n",
    "\n",
    "Мы могли бы вычислить выражения для производных вручную и написать код для их непосредственного вычисления, но некоторые имеют очень сложные выражения даже для этого относительно простого исходного уравнения. Например:\n",
    "\n",
    "\\begin{align}\n",
    "\\frac{\\partial \\ell_i}{\\partial \\omega_{0}} &=& -2 \\left( \\beta_3+\\omega_3\\cdot\\cos\\Bigl[\\beta_2+\\omega_2\\cdot\\exp\\bigl[\\beta_1+\\omega_1\\cdot\\sin[\\beta_0+\\omega_0\\cdot x_i]\\bigr]\\Bigr]-y_i\\right)\\nonumber \\\\\n",
    "&&\\hspace{0.5cm}\\cdot \\omega_1\\omega_2\\omega_3\\cdot x_i\\cdot\\cos[\\beta_0+\\omega_0 \\cdot x_i]\\cdot\\exp\\Bigl[\\beta_1 + \\omega_1 \\cdot \\sin[\\beta_0+\\omega_0\\cdot x_i]\\Bigr]\\nonumber\\\\\n",
    "&& \\hspace{1cm}\\cdot \\sin\\biggl[\\beta_2+\\omega_2\\cdot \\exp\\Bigl[\\beta_1 + \\omega_1 \\cdot \\sin[\\beta_0+\\omega_0\\cdot x_i]\\Bigr]\\biggr].\n",
    "\\end{align}"
   ]
  },
  {
   "cell_type": "code",
   "execution_count": 5,
   "metadata": {
    "id": "7t22hALp5zkq"
   },
   "outputs": [],
   "source": [
    "dldbeta3_func = 2 * (beta3 +omega3 * np.cos(beta2 + omega2 * np.exp(beta1+omega1 * np.sin(beta0+omega0 * x)))-y)\n",
    "dldomega0_func = -2 *(beta3 +omega3 * np.cos(beta2 + omega2 * np.exp(beta1+omega1 * np.sin(beta0+omega0 * x)))-y) * \\\n",
    "              omega1 * omega2 * omega3 * x * np.cos(beta0 + omega0 * x) * np.exp(beta1 +omega1 * np.sin(beta0 + omega0 * x)) *\\\n",
    "              np.sin(beta2 + omega2 * np.exp(beta1+ omega1* np.sin(beta0+omega0 * x)))"
   ]
  },
  {
   "cell_type": "markdown",
   "metadata": {
    "id": "iRh4hnu3-H3n"
   },
   "source": [
    "Давайте убедимся, что расчет верен, используя конечные разности:"
   ]
  },
  {
   "cell_type": "code",
   "execution_count": 6,
   "metadata": {
    "colab": {
     "base_uri": "https://localhost:8080/"
    },
    "id": "1O3XmXMx-HlZ",
    "outputId": "0861c720-fbf7-4cae-ebc6-c1a98735beaf"
   },
   "outputs": [
    {
     "name": "stdout",
     "output_type": "stream",
     "text": [
      "dydomega0: Function value = 5.246, Finite difference value = 5.246\n"
     ]
    }
   ],
   "source": [
    "dldomega0_fd = (loss(x,y,beta0,beta1,beta2,beta3,omega0+0.00001,omega1,omega2,omega3)-loss(x,y,beta0,beta1,beta2,beta3,omega0,omega1,omega2,omega3))/0.00001\n",
    "\n",
    "print('dydomega0: Function value = %3.3f, Finite difference value = %3.3f'%(dldomega0_func,dldomega0_fd))"
   ]
  },
  {
   "cell_type": "markdown",
   "metadata": {
    "id": "wS4IPjZAKWTN"
   },
   "source": [
    "\n",
    "\n",
    "Код для вычисления $\\partial l_i/ \\partial \\omega_0$ немного похож на кошмар. Легко допустить ошибки, и вы можете видеть, что некоторые его части повторяются (например, член $\\sin[\\bullet]$), что предполагает некоторую избыточность в вычислениях. Цель этого практического занятия - вычислить производные гораздо более простым способом. Расчет предполагает три шага:"
   ]
  },
  {
   "cell_type": "markdown",
   "metadata": {
    "id": "8UWhvDeNDudz"
   },
   "source": [
    "**Шаг 1:** Запишем исходные уравнения в виде серии промежуточных вычислений.\n",
    "\n",
    "\\begin{align}\n",
    "f_{0} &=& \\beta_{0} + \\omega_{0} x_i\\nonumber\\\\\n",
    "h_{1} &=& \\sin[f_{0}]\\nonumber\\\\\n",
    "f_{1} &=& \\beta_{1} + \\omega_{1}h_{1}\\nonumber\\\\\n",
    "h_{2} &=& \\exp[f_{1}]\\nonumber\\\\\n",
    "f_{2} &=& \\beta_{2} + \\omega_{2} h_{2}\\nonumber\\\\\n",
    "h_{3} &=& \\cos[f_{2}]\\nonumber\\\\\n",
    "f_{3} &=& \\beta_{3} + \\omega_{3}h_{3}\\nonumber\\\\\n",
    "l_i &=& (f_3-y_i)^2\n",
    "\\end{align}\n",
    "\n",
    "\n",
    "и вычислим и сохраним значения всех этих промежуточных значений.  Они понадобятся нам для вычисления производных.<br> Это называется **прямой проход** (**forward pass**)."
   ]
  },
  {
   "cell_type": "code",
   "execution_count": 7,
   "metadata": {
    "id": "ZWKAq6HC90qV"
   },
   "outputs": [],
   "source": [
    "# TODO вычислите все члены f_k и h_k\n",
    "# Замените приведенный ниже код\n",
    "f0 = beta0 + omega0*x\n",
    "h1 = np.sin(f0)\n",
    "f1 = beta1 + omega1*h1\n",
    "h2 = np.exp(f1)\n",
    "f2 = beta2 + omega2*h2\n",
    "h3 = np.cos(f2)\n",
    "f3 = beta3 + omega3*h3\n",
    "l_i = (f3 - y)**2\n"
   ]
  },
  {
   "cell_type": "code",
   "execution_count": 8,
   "metadata": {
    "colab": {
     "base_uri": "https://localhost:8080/"
    },
    "id": "ibxXw7TUW4Sx",
    "outputId": "8235dc30-aeb6-4dfe-c748-6c0eef7b949d"
   },
   "outputs": [
    {
     "name": "stdout",
     "output_type": "stream",
     "text": [
      "f0: true value = 1.230, your value = 1.230\n",
      "h1: true value = 0.942, your value = 0.942\n",
      "f1: true value = 1.623, your value = 1.623\n",
      "h2: true value = 5.068, your value = 5.068\n",
      "f2: true value = 7.137, your value = 7.137\n",
      "h3: true value = 0.657, your value = 0.657\n",
      "f3: true value = 2.372, your value = 2.372\n",
      "like original = 0.139, like from forward pass = 0.139\n"
     ]
    }
   ],
   "source": [
    "# Давайте проверим, все ли мы поняли правильно:\n",
    "print(\"f0: true value = %3.3f, your value = %3.3f\"%(1.230, f0))\n",
    "print(\"h1: true value = %3.3f, your value = %3.3f\"%(0.942, h1))\n",
    "print(\"f1: true value = %3.3f, your value = %3.3f\"%(1.623, f1))\n",
    "print(\"h2: true value = %3.3f, your value = %3.3f\"%(5.068, h2))\n",
    "print(\"f2: true value = %3.3f, your value = %3.3f\"%(7.137, f2))\n",
    "print(\"h3: true value = %3.3f, your value = %3.3f\"%(0.657, h3))\n",
    "print(\"f3: true value = %3.3f, your value = %3.3f\"%(2.372, f3))\n",
    "print(\"like original = %3.3f, like from forward pass = %3.3f\"%(l_i_func, l_i))\n"
   ]
  },
  {
   "cell_type": "markdown",
   "metadata": {
    "id": "jay8NYWdFHuZ"
   },
   "source": [
    "**Шаг 2:** Вычислим производные от $\\ell_i$ относительно промежуточных величин, которые мы только что вычислили, но в обратном порядке:\n",
    "\n",
    "\\begin{align}\n",
    "\\quad \\frac{\\partial \\ell_i}{\\partial f_3}, \\quad \\frac{\\partial \\ell_i}{\\partial h_3}, \\quad \\frac{\\partial \\ell_i}{\\partial f_2}, \\quad\n",
    "\\frac{\\partial \\ell_i}{\\partial h_2}, \\quad \\frac{\\partial \\ell_i}{\\partial f_1}, \\quad \\frac{\\partial \\ell_i}{\\partial h_1},  \\quad\\text{и} \\quad \\frac{\\partial \\ell_i}{\\partial f_0}.\n",
    "\\end{align}\n",
    "\n",
    "\n",
    "Первая из этих производных проста:\n",
    "\n",
    "\\begin{equation}\n",
    "\\frac{\\partial \\ell_i}{\\partial f_{3}} = 2 (f_3-y).\n",
    "\\end{equation}\n",
    "\n",
    "\n",
    "Другая производная может быть вычислена с помощью цепного правила:\n",
    "\n",
    "\\begin{equation}\n",
    "\\frac{\\partial \\ell_i}{\\partial h_{3}} =\\frac{\\partial f_{3}}{\\partial h_{3}} \\frac{\\partial \\ell_i}{\\partial f_{3}} .\n",
    "\\end{equation}\n",
    "\n",
    "\n",
    "В левой части спрашивается, как изменяется $\\ell_i$ при изменении $h_{3}$.  В правой части говорится, что мы можем разложить это на то, как $\\ell_i$ изменяется при изменении $f_{3}$ и как $f_{3}$ изменяется при изменении $h_{3}$.  Таким образом, вы получаете цепочку происходящих событий: $h_{3}$ изменяет $f_{3}$, что изменяет $\\ell_i$, а производные представляют эффекты этой цепочки.  Обратите внимание, что мы уже вычислили первую из этих производных, и она равна $2 (f_3-y)$. Мы вычислили $f_{3}$ на шаге 1.  Второй член является производной от $\\beta_{3} + \\omega_{3}h_{3}$ по отношению к $h_3$, который является просто $\\omega_3$.\n",
    "\n",
    "\n",
    "Мы можем продолжить в том же духе, вычисляя производные выходных данных по отношению к этим промежуточным величинам:\n",
    "\n",
    "\\begin{align}\n",
    "\\frac{\\partial \\ell_i}{\\partial f_{2}} &=& \\frac{\\partial h_{3}}{\\partial f_{2}}\\left(\n",
    "\\frac{\\partial f_{3}}{\\partial h_{3}}\\frac{\\partial \\ell_i}{\\partial f_{3}} \\right)\n",
    "\\nonumber \\\\\n",
    "\\frac{\\partial \\ell_i}{\\partial h_{2}} &=& \\frac{\\partial f_{2}}{\\partial h_{2}}\\left(\\frac{\\partial h_{3}}{\\partial f_{2}}\\frac{\\partial f_{3}}{\\partial h_{3}}\\frac{\\partial \\ell_i}{\\partial f_{3}}\\right)\\nonumber \\\\\n",
    "\\frac{\\partial \\ell_i}{\\partial f_{1}} &=& \\frac{\\partial h_{2}}{\\partial f_{1}}\\left( \\frac{\\partial f_{2}}{\\partial h_{2}}\\frac{\\partial h_{3}}{\\partial f_{2}}\\frac{\\partial f_{3}}{\\partial h_{3}}\\frac{\\partial \\ell_i}{\\partial f_{3}} \\right)\\nonumber \\\\\n",
    "\\frac{\\partial \\ell_i}{\\partial h_{1}} &=& \\frac{\\partial f_{1}}{\\partial h_{1}}\\left(\\frac{\\partial h_{2}}{\\partial f_{1}} \\frac{\\partial f_{2}}{\\partial h_{2}}\\frac{\\partial h_{3}}{\\partial f_{2}}\\frac{\\partial f_{3}}{\\partial h_{3}}\\frac{\\partial \\ell_i}{\\partial f_{3}} \\right)\\nonumber \\\\\n",
    "\\frac{\\partial \\ell_i}{\\partial f_{0}} &=& \\frac{\\partial h_{1}}{\\partial f_{0}}\\left(\\frac{\\partial f_{1}}{\\partial h_{1}}\\frac{\\partial h_{2}}{\\partial f_{1}} \\frac{\\partial f_{2}}{\\partial h_{2}}\\frac{\\partial h_{3}}{\\partial f_{2}}\\frac{\\partial f_{3}}{\\partial h_{3}}\\frac{\\partial \\ell_i}{\\partial f_{3}} \\right).\n",
    "\\end{align}\n",
    "\n",
    "\n",
    "В каждом случае мы уже вычислили все члены, кроме последнего, на предыдущем шаге, и последний член вычислить просто.  Это называется **обратным проходом** (**backward pass**)."
   ]
  },
  {
   "cell_type": "code",
   "execution_count": 9,
   "metadata": {
    "id": "gCQJeI--Egdl"
   },
   "outputs": [],
   "source": [
    "# TODO - Вычислим производные выходных данных относительно\n",
    "# промежуточных вычислений h_k и f_k (т.е. выполним обратный проход)\n",
    "# Первые два уже выполнены за вас.\n",
    "dldf3 = 2* (f3 - y)\n",
    "dldh3 = omega3 * dldf3\n",
    "# Замените приведенный ниже код\n",
    "dldf2 = -1*np.sin(f2)*dldh3\n",
    "dldh2 = omega2*dldf2\n",
    "dldf1 = np.exp(f1)*dldh2\n",
    "dldh1 = omega1*dldf1\n",
    "dldf0 = np.cos(f0)*dldh1\n"
   ]
  },
  {
   "cell_type": "code",
   "execution_count": 10,
   "metadata": {
    "colab": {
     "base_uri": "https://localhost:8080/"
    },
    "id": "dS1OrLtlaFr7",
    "outputId": "a00a4118-f946-4d8b-88a9-0bc459119041"
   },
   "outputs": [
    {
     "name": "stdout",
     "output_type": "stream",
     "text": [
      "dldf3: true value = 0.745, your value = 0.745\n",
      "dldh3: true value = 2.234, your value = 2.234\n",
      "dldf2: true value = -1.683, your value = -1.683\n",
      "dldh2: true value = -3.366, your value = -3.366\n",
      "dldf1: true value = -17.060, your value = -17.060\n",
      "dldh1: true value = 6.824, your value = 6.824\n",
      "dldf0: true value = 2.281, your value = 2.281\n"
     ]
    }
   ],
   "source": [
    "# Давайте проверим, правильно ли мы их посчитали\n",
    "print(\"dldf3: true value = %3.3f, your value = %3.3f\"%(0.745, dldf3))\n",
    "print(\"dldh3: true value = %3.3f, your value = %3.3f\"%(2.234, dldh3))\n",
    "print(\"dldf2: true value = %3.3f, your value = %3.3f\"%(-1.683, dldf2))\n",
    "print(\"dldh2: true value = %3.3f, your value = %3.3f\"%(-3.366, dldh2))\n",
    "print(\"dldf1: true value = %3.3f, your value = %3.3f\"%(-17.060, dldf1))\n",
    "print(\"dldh1: true value = %3.3f, your value = %3.3f\"%(6.824, dldh1))\n",
    "print(\"dldf0: true value = %3.3f, your value = %3.3f\"%(2.281, dldf0))"
   ]
  },
  {
   "cell_type": "code",
   "execution_count": 11,
   "metadata": {
    "id": "1I2BhqZhGMK6"
   },
   "outputs": [],
   "source": [
    "# TODO - Вычислим конечные производные по отношению к членам бета и омега\n",
    "dldbeta3 = dldf3\n",
    "dldomega3 = dldf3*h3\n",
    "dldbeta2 = dldf2\n",
    "dldomega2 = dldf2*h2\n",
    "dldbeta1 = dldf1\n",
    "dldomega1 = dldf1*h1\n",
    "dldbeta0 = dldf0\n",
    "dldomega0 = dldf0*x\n"
   ]
  },
  {
   "cell_type": "code",
   "execution_count": 12,
   "metadata": {
    "colab": {
     "base_uri": "https://localhost:8080/"
    },
    "id": "38eiOn2aHgHI",
    "outputId": "eeec6356-6065-491e-802e-d3c9bca92da7"
   },
   "outputs": [
    {
     "name": "stdout",
     "output_type": "stream",
     "text": [
      "dldbeta3: Your value = 0.745, True value = 0.745\n",
      "dldomega3: Your value = 0.489, True value = 0.489\n",
      "dldbeta2: Your value = -1.683, True value = -1.683\n",
      "dldomega2: Your value = -8.530, True value = -8.530\n",
      "dldbeta1: Your value = -17.060, True value = -17.060\n",
      "dldomega1: Your value = -16.079, True value = -16.079\n",
      "dldbeta0: Your value = 2.281, True value = 2.281\n",
      "dldomega0: Your value = 5.246, Function value = 5.246, Finite difference value = 5.246\n"
     ]
    }
   ],
   "source": [
    "# Давайте проверим, правильно ли мы их посчитали\n",
    "print('dldbeta3: Your value = %3.3f, True value = %3.3f'%(dldbeta3, 0.745))\n",
    "print('dldomega3: Your value = %3.3f, True value = %3.3f'%(dldomega3, 0.489))\n",
    "print('dldbeta2: Your value = %3.3f, True value = %3.3f'%(dldbeta2, -1.683))\n",
    "print('dldomega2: Your value = %3.3f, True value = %3.3f'%(dldomega2, -8.530))\n",
    "print('dldbeta1: Your value = %3.3f, True value = %3.3f'%(dldbeta1, -17.060))\n",
    "print('dldomega1: Your value = %3.3f, True value = %3.3f'%(dldomega1, -16.079))\n",
    "print('dldbeta0: Your value = %3.3f, True value = %3.3f'%(dldbeta0, 2.281))\n",
    "print('dldomega0: Your value = %3.3f, Function value = %3.3f, Finite difference value = %3.3f'%(dldomega0, dldomega0_func, dldomega0_fd))"
   ]
  },
  {
   "cell_type": "markdown",
   "metadata": {
    "id": "N2ZhrR-2fNa1"
   },
   "source": [
    "Используя этот метод, мы можем довольно легко вычислить производные, не прибегая к вычислению очень сложных выражений.  В следующем разделе мы применим этот же метод к глубокой нейронной сети."
   ]
  }
 ],
 "metadata": {
  "colab": {
   "provenance": []
  },
  "kernelspec": {
   "display_name": "Python 3 (ipykernel)",
   "language": "python",
   "name": "python3"
  },
  "language_info": {
   "codemirror_mode": {
    "name": "ipython",
    "version": 3
   },
   "file_extension": ".py",
   "mimetype": "text/x-python",
   "name": "python",
   "nbconvert_exporter": "python",
   "pygments_lexer": "ipython3",
   "version": "3.11.5"
  }
 },
 "nbformat": 4,
 "nbformat_minor": 1
}
